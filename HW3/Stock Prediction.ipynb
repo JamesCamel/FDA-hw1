{
 "cells": [
  {
   "cell_type": "markdown",
   "metadata": {},
   "source": [
    "# Predicting  stock close price movement\n",
    "Compare the result of using 3 different models:\n",
    "1. Logistic Regression\n",
    "2. Support Vector Machine\n",
    "3. Neural Network"
   ]
  },
  {
   "cell_type": "markdown",
   "metadata": {},
   "source": [
    "### Import library"
   ]
  },
  {
   "cell_type": "code",
   "execution_count": 43,
   "metadata": {},
   "outputs": [],
   "source": [
    "import numpy as np\n",
    "import pandas as pd\n",
    "import matplotlib.pyplot as plt\n",
    "from sklearn.linear_model import LogisticRegression\n",
    "from sklearn import metrics\n",
    "import scipy\n",
    "import pydotplus\n",
    "from sklearn.svm import SVC\n",
    "from sklearn.preprocessing import StandardScaler\n",
    "from sklearn.metrics import accuracy_score\n",
    "import tensorflow\n",
    "from keras import models, layers, optimizers, regularizers\n",
    "from sklearn import model_selection, preprocessing\n",
    "from sklearn import linear_model, metrics, model_selection\n",
    "import matplotlib.pyplot as plt\n",
    "from sklearn.model_selection import train_test_split"
   ]
  },
  {
   "cell_type": "markdown",
   "metadata": {},
   "source": [
    "### Data Precessing"
   ]
  },
  {
   "cell_type": "markdown",
   "metadata": {},
   "source": [
    "Stock price record from S&P 500\n",
    "\n",
    "Data source: https://www.sharecast.com/index/SP_500/prices/download\n",
    "\n"
   ]
  },
  {
   "cell_type": "markdown",
   "metadata": {},
   "source": [
    "Training set: $\\;\\;\\;\\;$ 02-Jan-2009 to 29-Dec-2017\n",
    "\n",
    "\n",
    "Test set:  $\\;\\;\\;\\;\\;\\;$02-Jan-2018 to 31-Dec-2018"
   ]
  },
  {
   "cell_type": "code",
   "execution_count": 44,
   "metadata": {
    "scrolled": true
   },
   "outputs": [
    {
     "data": {
      "text/html": [
       "<div>\n",
       "<style scoped>\n",
       "    .dataframe tbody tr th:only-of-type {\n",
       "        vertical-align: middle;\n",
       "    }\n",
       "\n",
       "    .dataframe tbody tr th {\n",
       "        vertical-align: top;\n",
       "    }\n",
       "\n",
       "    .dataframe thead th {\n",
       "        text-align: right;\n",
       "    }\n",
       "</style>\n",
       "<table border=\"1\" class=\"dataframe\">\n",
       "  <thead>\n",
       "    <tr style=\"text-align: right;\">\n",
       "      <th></th>\n",
       "      <th>Date</th>\n",
       "      <th>Open Price</th>\n",
       "      <th>Close Price</th>\n",
       "      <th>High Price</th>\n",
       "      <th>Low Price</th>\n",
       "      <th>Volume</th>\n",
       "    </tr>\n",
       "  </thead>\n",
       "  <tbody>\n",
       "    <tr>\n",
       "      <th>0</th>\n",
       "      <td>02-Jan-2009</td>\n",
       "      <td>902.99</td>\n",
       "      <td>931.80</td>\n",
       "      <td>934.73</td>\n",
       "      <td>899.35</td>\n",
       "      <td>4048270080</td>\n",
       "    </tr>\n",
       "    <tr>\n",
       "      <th>1</th>\n",
       "      <td>05-Jan-2009</td>\n",
       "      <td>929.17</td>\n",
       "      <td>927.45</td>\n",
       "      <td>936.63</td>\n",
       "      <td>919.53</td>\n",
       "      <td>5413910016</td>\n",
       "    </tr>\n",
       "    <tr>\n",
       "      <th>2</th>\n",
       "      <td>06-Jan-2009</td>\n",
       "      <td>931.17</td>\n",
       "      <td>934.70</td>\n",
       "      <td>943.85</td>\n",
       "      <td>927.28</td>\n",
       "      <td>5392620032</td>\n",
       "    </tr>\n",
       "  </tbody>\n",
       "</table>\n",
       "</div>"
      ],
      "text/plain": [
       "          Date  Open Price  Close Price  High Price  Low Price      Volume\n",
       "0  02-Jan-2009      902.99       931.80      934.73     899.35  4048270080\n",
       "1  05-Jan-2009      929.17       927.45      936.63     919.53  5413910016\n",
       "2  06-Jan-2009      931.17       934.70      943.85     927.28  5392620032"
      ]
     },
     "execution_count": 44,
     "metadata": {},
     "output_type": "execute_result"
    }
   ],
   "source": [
    "df_train = pd.read_csv('./desktop/train_set.csv')\n",
    "df_train.head(3)"
   ]
  },
  {
   "cell_type": "code",
   "execution_count": 45,
   "metadata": {},
   "outputs": [
    {
     "data": {
      "text/html": [
       "<div>\n",
       "<style scoped>\n",
       "    .dataframe tbody tr th:only-of-type {\n",
       "        vertical-align: middle;\n",
       "    }\n",
       "\n",
       "    .dataframe tbody tr th {\n",
       "        vertical-align: top;\n",
       "    }\n",
       "\n",
       "    .dataframe thead th {\n",
       "        text-align: right;\n",
       "    }\n",
       "</style>\n",
       "<table border=\"1\" class=\"dataframe\">\n",
       "  <thead>\n",
       "    <tr style=\"text-align: right;\">\n",
       "      <th></th>\n",
       "      <th>Date</th>\n",
       "      <th>Open Price</th>\n",
       "      <th>Close Price</th>\n",
       "      <th>High Price</th>\n",
       "      <th>Low Price</th>\n",
       "      <th>Volume</th>\n",
       "    </tr>\n",
       "  </thead>\n",
       "  <tbody>\n",
       "    <tr>\n",
       "      <th>0</th>\n",
       "      <td>02-Jan-2018</td>\n",
       "      <td>2683.73</td>\n",
       "      <td>2695.81</td>\n",
       "      <td>2695.89</td>\n",
       "      <td>2682.36</td>\n",
       "      <td>1846463232</td>\n",
       "    </tr>\n",
       "    <tr>\n",
       "      <th>1</th>\n",
       "      <td>03-Jan-2018</td>\n",
       "      <td>2697.85</td>\n",
       "      <td>2713.06</td>\n",
       "      <td>2714.37</td>\n",
       "      <td>2697.77</td>\n",
       "      <td>2090595328</td>\n",
       "    </tr>\n",
       "    <tr>\n",
       "      <th>2</th>\n",
       "      <td>04-Jan-2018</td>\n",
       "      <td>2719.31</td>\n",
       "      <td>2723.99</td>\n",
       "      <td>2729.29</td>\n",
       "      <td>2719.07</td>\n",
       "      <td>2100767744</td>\n",
       "    </tr>\n",
       "  </tbody>\n",
       "</table>\n",
       "</div>"
      ],
      "text/plain": [
       "          Date  Open Price  Close Price  High Price  Low Price      Volume\n",
       "0  02-Jan-2018     2683.73      2695.81     2695.89    2682.36  1846463232\n",
       "1  03-Jan-2018     2697.85      2713.06     2714.37    2697.77  2090595328\n",
       "2  04-Jan-2018     2719.31      2723.99     2729.29    2719.07  2100767744"
      ]
     },
     "execution_count": 45,
     "metadata": {},
     "output_type": "execute_result"
    }
   ],
   "source": [
    "df_test = pd.read_csv('./desktop/test_set.csv')\n",
    "df_test.head(3)"
   ]
  },
  {
   "cell_type": "markdown",
   "metadata": {},
   "source": [
    "### Select features"
   ]
  },
  {
   "cell_type": "markdown",
   "metadata": {},
   "source": [
    "Open Price , High Price , Low Price"
   ]
  },
  {
   "cell_type": "markdown",
   "metadata": {},
   "source": [
    "### drop useless features"
   ]
  },
  {
   "cell_type": "code",
   "execution_count": 46,
   "metadata": {},
   "outputs": [],
   "source": [
    "x_train = df_train.drop(['Date', 'Volume', 'Close Price'], axis =1)\n",
    "x_test = df_test.drop(['Date', 'Volume', 'Close Price'], axis =1)\n"
   ]
  },
  {
   "cell_type": "markdown",
   "metadata": {},
   "source": [
    "### Set target data"
   ]
  },
  {
   "cell_type": "markdown",
   "metadata": {},
   "source": [
    "Set target(note as y_test, y_train here)\n",
    "\n",
    "1: when close price rise at the next day\n",
    "\n",
    "0: when close price fall at the next day"
   ]
  },
  {
   "cell_type": "code",
   "execution_count": 47,
   "metadata": {},
   "outputs": [],
   "source": [
    "y_test = np.where (df_test['Close Price'].shift(-1) > df_test['Close Price'],1,0)\n",
    "y_train = np.where (df_train['Close Price'].shift(-1) > df_train['Close Price'],1,0)"
   ]
  },
  {
   "cell_type": "markdown",
   "metadata": {},
   "source": [
    "### Standardlize datas"
   ]
  },
  {
   "cell_type": "code",
   "execution_count": 48,
   "metadata": {},
   "outputs": [],
   "source": [
    "sc = StandardScaler()\n",
    "sc.fit(x_train)\n",
    "x_train = sc.transform(x_train)\n",
    "x_test = sc.transform(x_test)"
   ]
  },
  {
   "cell_type": "markdown",
   "metadata": {},
   "source": [
    "## 1. Logistic regression"
   ]
  },
  {
   "cell_type": "code",
   "execution_count": 49,
   "metadata": {},
   "outputs": [],
   "source": [
    "clf = LogisticRegression(solver = 'liblinear')\n",
    "clf = clf.fit(x_train, y_train)"
   ]
  },
  {
   "cell_type": "markdown",
   "metadata": {},
   "source": [
    "The probabilities are all apparently close to 0.5"
   ]
  },
  {
   "cell_type": "code",
   "execution_count": 50,
   "metadata": {},
   "outputs": [
    {
     "data": {
      "text/plain": [
       "array([[0.47944242, 0.52055758],\n",
       "       [0.48053489, 0.51946511],\n",
       "       [0.4800298 , 0.5199702 ],\n",
       "       [0.48041638, 0.51958362],\n",
       "       [0.47960548, 0.52039452],\n",
       "       [0.48026123, 0.51973877],\n",
       "       [0.47926957, 0.52073043],\n",
       "       [0.48153448, 0.51846552],\n",
       "       [0.48238795, 0.51761205],\n",
       "       [0.47956294, 0.52043706],\n",
       "       [0.48297766, 0.51702234],\n",
       "       [0.48030964, 0.51969036],\n",
       "       [0.48135014, 0.51864986],\n",
       "       [0.48422335, 0.51577665],\n",
       "       [0.4820388 , 0.5179612 ],\n",
       "       [0.48119251, 0.51880749],\n",
       "       [0.48078832, 0.51921168],\n",
       "       [0.48534384, 0.51465616],\n",
       "       [0.48141627, 0.51858373],\n",
       "       [0.48093988, 0.51906012],\n",
       "       [0.48086589, 0.51913411],\n",
       "       [0.48353566, 0.51646434],\n",
       "       [0.47716367, 0.52283633],\n",
       "       [0.4751503 , 0.5248497 ],\n",
       "       [0.48771346, 0.51228654],\n",
       "       [0.48278663, 0.51721337],\n",
       "       [0.47034416, 0.52965584],\n",
       "       [0.476485  , 0.523515  ],\n",
       "       [0.4810415 , 0.5189585 ],\n",
       "       [0.47959524, 0.52040476],\n",
       "       [0.48453364, 0.51546636],\n",
       "       [0.47946577, 0.52053423],\n",
       "       [0.48273589, 0.51726411],\n",
       "       [0.47969045, 0.52030955],\n",
       "       [0.4813486 , 0.5186514 ],\n",
       "       [0.48060092, 0.51939908],\n",
       "       [0.48318218, 0.51681782],\n",
       "       [0.48272588, 0.51727412],\n",
       "       [0.47872453, 0.52127547],\n",
       "       [0.47766307, 0.52233693],\n",
       "       [0.47687773, 0.52312227],\n",
       "       [0.48198825, 0.51801175],\n",
       "       [0.48443748, 0.51556252],\n",
       "       [0.47772478, 0.52227522],\n",
       "       [0.4808298 , 0.5191702 ],\n",
       "       [0.47929872, 0.52070128],\n",
       "       [0.48436894, 0.51563106],\n",
       "       [0.48038781, 0.51961219],\n",
       "       [0.47932545, 0.52067455],\n",
       "       [0.4781739 , 0.5218261 ],\n",
       "       [0.47977783, 0.52022217],\n",
       "       [0.480942  , 0.519058  ],\n",
       "       [0.47572177, 0.52427823],\n",
       "       [0.47946735, 0.52053265],\n",
       "       [0.48174443, 0.51825557],\n",
       "       [0.47498992, 0.52501008],\n",
       "       [0.47416746, 0.52583254],\n",
       "       [0.48134158, 0.51865842],\n",
       "       [0.47333305, 0.52666695],\n",
       "       [0.47794015, 0.52205985],\n",
       "       [0.48254276, 0.51745724],\n",
       "       [0.47158609, 0.52841391],\n",
       "       [0.47845869, 0.52154131],\n",
       "       [0.48465701, 0.51534299],\n",
       "       [0.47875617, 0.52124383],\n",
       "       [0.47425178, 0.52574822],\n",
       "       [0.48121851, 0.51878149],\n",
       "       [0.48055917, 0.51944083],\n",
       "       [0.47909221, 0.52090779],\n",
       "       [0.48016904, 0.51983096],\n",
       "       [0.47577251, 0.52422749],\n",
       "       [0.47951427, 0.52048573],\n",
       "       [0.48099528, 0.51900472],\n",
       "       [0.4789717 , 0.5210283 ],\n",
       "       [0.47698152, 0.52301848],\n",
       "       [0.47583243, 0.52416757],\n",
       "       [0.47738841, 0.52261159],\n",
       "       [0.47352858, 0.52647142],\n",
       "       [0.47653559, 0.52346441],\n",
       "       [0.48040182, 0.51959818],\n",
       "       [0.47660396, 0.52339604],\n",
       "       [0.47676185, 0.52323815],\n",
       "       [0.4772179 , 0.5227821 ],\n",
       "       [0.47639777, 0.52360223],\n",
       "       [0.47537714, 0.52462286],\n",
       "       [0.4833449 , 0.5166551 ],\n",
       "       [0.47914941, 0.52085059],\n",
       "       [0.47722262, 0.52277738],\n",
       "       [0.48080649, 0.51919351],\n",
       "       [0.48137544, 0.51862456],\n",
       "       [0.47978188, 0.52021812],\n",
       "       [0.47962712, 0.52037288],\n",
       "       [0.47731927, 0.52268073],\n",
       "       [0.4806465 , 0.5193535 ],\n",
       "       [0.47981104, 0.52018896],\n",
       "       [0.47822264, 0.52177736],\n",
       "       [0.48068494, 0.51931506],\n",
       "       [0.47839806, 0.52160194],\n",
       "       [0.48103978, 0.51896022],\n",
       "       [0.47728046, 0.52271954],\n",
       "       [0.47858541, 0.52141459],\n",
       "       [0.47702701, 0.52297299],\n",
       "       [0.48223921, 0.51776079],\n",
       "       [0.47735142, 0.52264858],\n",
       "       [0.4812951 , 0.5187049 ],\n",
       "       [0.48011398, 0.51988602],\n",
       "       [0.47920833, 0.52079167],\n",
       "       [0.48191103, 0.51808897],\n",
       "       [0.47956429, 0.52043571],\n",
       "       [0.48153326, 0.51846674],\n",
       "       [0.48149242, 0.51850758],\n",
       "       [0.48024481, 0.51975519],\n",
       "       [0.47973837, 0.52026163],\n",
       "       [0.48045007, 0.51954993],\n",
       "       [0.47953194, 0.52046806],\n",
       "       [0.48041054, 0.51958946],\n",
       "       [0.48066193, 0.51933807],\n",
       "       [0.48008306, 0.51991694],\n",
       "       [0.47793422, 0.52206578],\n",
       "       [0.47944147, 0.52055853],\n",
       "       [0.47593733, 0.52406267],\n",
       "       [0.47977445, 0.52022555],\n",
       "       [0.47937189, 0.52062811],\n",
       "       [0.48148226, 0.51851774],\n",
       "       [0.48052696, 0.51947304],\n",
       "       [0.48116867, 0.51883133],\n",
       "       [0.47778715, 0.52221285],\n",
       "       [0.48014241, 0.51985759],\n",
       "       [0.48274963, 0.51725037],\n",
       "       [0.48215258, 0.51784742],\n",
       "       [0.48106579, 0.51893421],\n",
       "       [0.48023918, 0.51976082],\n",
       "       [0.48237494, 0.51762506],\n",
       "       [0.48114512, 0.51885488],\n",
       "       [0.48023848, 0.51976152],\n",
       "       [0.4839715 , 0.5160285 ],\n",
       "       [0.48113512, 0.51886488],\n",
       "       [0.48037662, 0.51962338],\n",
       "       [0.48099991, 0.51900009],\n",
       "       [0.4815656 , 0.5184344 ],\n",
       "       [0.48166157, 0.51833843],\n",
       "       [0.48548457, 0.51451543],\n",
       "       [0.48279197, 0.51720803],\n",
       "       [0.47913892, 0.52086108],\n",
       "       [0.47981207, 0.52018793],\n",
       "       [0.48279262, 0.51720738],\n",
       "       [0.48055253, 0.51944747],\n",
       "       [0.48464935, 0.51535065],\n",
       "       [0.48261387, 0.51738613],\n",
       "       [0.48306281, 0.51693719],\n",
       "       [0.48289783, 0.51710217],\n",
       "       [0.48237093, 0.51762907],\n",
       "       [0.48221807, 0.51778193],\n",
       "       [0.48077341, 0.51922659],\n",
       "       [0.48137385, 0.51862615],\n",
       "       [0.48332456, 0.51667544],\n",
       "       [0.47927994, 0.52072006],\n",
       "       [0.48408596, 0.51591404],\n",
       "       [0.48365625, 0.51634375],\n",
       "       [0.48235857, 0.51764143],\n",
       "       [0.4836611 , 0.5163389 ],\n",
       "       [0.48251996, 0.51748004],\n",
       "       [0.4827067 , 0.5172933 ],\n",
       "       [0.48401448, 0.51598552],\n",
       "       [0.48450445, 0.51549555],\n",
       "       [0.48261517, 0.51738483],\n",
       "       [0.48507878, 0.51492122],\n",
       "       [0.48256628, 0.51743372],\n",
       "       [0.48349736, 0.51650264],\n",
       "       [0.48237133, 0.51762867],\n",
       "       [0.4819509 , 0.5180491 ],\n",
       "       [0.48152786, 0.51847214],\n",
       "       [0.48412665, 0.51587335],\n",
       "       [0.48281141, 0.51718859],\n",
       "       [0.48498569, 0.51501431],\n",
       "       [0.48284162, 0.51715838],\n",
       "       [0.4842004 , 0.5157996 ],\n",
       "       [0.48248162, 0.51751838],\n",
       "       [0.48175171, 0.51824829],\n",
       "       [0.48567761, 0.51432239],\n",
       "       [0.48363073, 0.51636927],\n",
       "       [0.48556435, 0.51443565],\n",
       "       [0.48360947, 0.51639053],\n",
       "       [0.48295312, 0.51704688],\n",
       "       [0.48306963, 0.51693037],\n",
       "       [0.48438846, 0.51561154],\n",
       "       [0.48528079, 0.51471921],\n",
       "       [0.4844554 , 0.5155446 ],\n",
       "       [0.48446578, 0.51553422],\n",
       "       [0.48420506, 0.51579494],\n",
       "       [0.48405685, 0.51594315],\n",
       "       [0.4807981 , 0.5192019 ],\n",
       "       [0.48157646, 0.51842354],\n",
       "       [0.48298689, 0.51701311],\n",
       "       [0.48367786, 0.51632214],\n",
       "       [0.47587306, 0.52412694],\n",
       "       [0.47796624, 0.52203376],\n",
       "       [0.477614  , 0.522386  ],\n",
       "       [0.48038214, 0.51961786],\n",
       "       [0.48674341, 0.51325659],\n",
       "       [0.47938941, 0.52061059],\n",
       "       [0.47776932, 0.52223068],\n",
       "       [0.48214288, 0.51785712],\n",
       "       [0.47882135, 0.52117865],\n",
       "       [0.48144235, 0.51855765],\n",
       "       [0.47358175, 0.52641825],\n",
       "       [0.48428945, 0.51571055],\n",
       "       [0.47823869, 0.52176131],\n",
       "       [0.47574343, 0.52425657],\n",
       "       [0.48313145, 0.51686855],\n",
       "       [0.48295409, 0.51704591],\n",
       "       [0.48154587, 0.51845413],\n",
       "       [0.47764188, 0.52235812],\n",
       "       [0.48082746, 0.51917254],\n",
       "       [0.48169613, 0.51830387],\n",
       "       [0.48609524, 0.51390476],\n",
       "       [0.48104977, 0.51895023],\n",
       "       [0.47816795, 0.52183205],\n",
       "       [0.47644094, 0.52355906],\n",
       "       [0.48146096, 0.51853904],\n",
       "       [0.47662052, 0.52337948],\n",
       "       [0.48270062, 0.51729938],\n",
       "       [0.4823661 , 0.5176339 ],\n",
       "       [0.47563775, 0.52436225],\n",
       "       [0.47762375, 0.52237625],\n",
       "       [0.47849052, 0.52150948],\n",
       "       [0.47849902, 0.52150098],\n",
       "       [0.48061194, 0.51938806],\n",
       "       [0.47952272, 0.52047728],\n",
       "       [0.48540352, 0.51459648],\n",
       "       [0.48050907, 0.51949093],\n",
       "       [0.48213922, 0.51786078],\n",
       "       [0.48046821, 0.51953179],\n",
       "       [0.47449889, 0.52550111],\n",
       "       [0.47449889, 0.52550111],\n",
       "       [0.47921651, 0.52078349],\n",
       "       [0.47566796, 0.52433204],\n",
       "       [0.4755985 , 0.5244015 ],\n",
       "       [0.47567921, 0.52432079],\n",
       "       [0.48067457, 0.51932543],\n",
       "       [0.4773252 , 0.5226748 ],\n",
       "       [0.47468501, 0.52531499],\n",
       "       [0.47280121, 0.52719879],\n",
       "       [0.47469741, 0.52530259],\n",
       "       [0.47617913, 0.52382087],\n",
       "       [0.47129003, 0.52870997],\n",
       "       [0.47446088, 0.52553912],\n",
       "       [0.46898468, 0.53101532],\n",
       "       [0.48494364, 0.51505636],\n",
       "       [0.47594824, 0.52405176],\n",
       "       [0.4747636 , 0.5252364 ],\n",
       "       [0.47374739, 0.52625261]])"
      ]
     },
     "execution_count": 50,
     "metadata": {},
     "output_type": "execute_result"
    }
   ],
   "source": [
    "probability = clf.predict_proba(x_test)\n",
    "probability"
   ]
  },
  {
   "cell_type": "markdown",
   "metadata": {},
   "source": [
    "The accuracy is so low"
   ]
  },
  {
   "cell_type": "code",
   "execution_count": 51,
   "metadata": {},
   "outputs": [
    {
     "data": {
      "text/plain": [
       "0.5198412698412699"
      ]
     },
     "execution_count": 51,
     "metadata": {},
     "output_type": "execute_result"
    }
   ],
   "source": [
    "pred = clf.predict(x_test)\n",
    "clf.score(x_test, y_test)"
   ]
  },
  {
   "cell_type": "markdown",
   "metadata": {},
   "source": [
    "## Try to improve this model"
   ]
  },
  {
   "cell_type": "markdown",
   "metadata": {},
   "source": [
    "### Use SGD Classifier"
   ]
  },
  {
   "cell_type": "markdown",
   "metadata": {},
   "source": [
    "When we set the parameter loss='log', it basically do logistic regression too.\n",
    "The difference is, this time we choose SGD(stochastic gradient decent) to mininize our loss function"
   ]
  },
  {
   "cell_type": "code",
   "execution_count": 52,
   "metadata": {},
   "outputs": [],
   "source": [
    "SGDclf = linear_model.SGDClassifier(loss='log',\\\n",
    "                                    max_iter=10000,\\\n",
    "                                    tol=-np.infty)"
   ]
  },
  {
   "cell_type": "code",
   "execution_count": 53,
   "metadata": {},
   "outputs": [
    {
     "data": {
      "text/plain": [
       "SGDClassifier(alpha=0.0001, average=False, class_weight=None,\n",
       "       early_stopping=False, epsilon=0.1, eta0=0.0, fit_intercept=True,\n",
       "       l1_ratio=0.15, learning_rate='optimal', loss='log', max_iter=10000,\n",
       "       n_iter=None, n_iter_no_change=5, n_jobs=None, penalty='l2',\n",
       "       power_t=0.5, random_state=None, shuffle=True, tol=-inf,\n",
       "       validation_fraction=0.1, verbose=0, warm_start=False)"
      ]
     },
     "execution_count": 53,
     "metadata": {},
     "output_type": "execute_result"
    }
   ],
   "source": [
    "SGDclf.fit(x_train, y_train)"
   ]
  },
  {
   "cell_type": "markdown",
   "metadata": {},
   "source": [
    "### Result: The accuracy doesn't improve. Instead, it gets lower"
   ]
  },
  {
   "cell_type": "code",
   "execution_count": 54,
   "metadata": {},
   "outputs": [
    {
     "data": {
      "text/plain": [
       "0.5158730158730159"
      ]
     },
     "execution_count": 54,
     "metadata": {},
     "output_type": "execute_result"
    }
   ],
   "source": [
    "probability = SGDclf.predict_proba(x_test)\n",
    "pred = SGDclf.predict(x_test)\n",
    "SGDclf.score(x_test, y_test)"
   ]
  },
  {
   "cell_type": "markdown",
   "metadata": {},
   "source": [
    "## 2. Support Vector Machine"
   ]
  },
  {
   "cell_type": "code",
   "execution_count": 55,
   "metadata": {},
   "outputs": [
    {
     "data": {
      "text/plain": [
       "SVC(C=0.5, cache_size=200, class_weight=None, coef0=0.0,\n",
       "  decision_function_shape='ovr', degree=3, gamma='auto_deprecated',\n",
       "  kernel='linear', max_iter=-1, probability=True, random_state=None,\n",
       "  shrinking=True, tol=0.001, verbose=False)"
      ]
     },
     "execution_count": 55,
     "metadata": {},
     "output_type": "execute_result"
    }
   ],
   "source": [
    "svm = SVC(C=0.5, kernel='linear', probability=True)\n",
    "svm.fit(x_train, y_train)"
   ]
  },
  {
   "cell_type": "markdown",
   "metadata": {},
   "source": [
    "The accuracy is also low by using SVM"
   ]
  },
  {
   "cell_type": "code",
   "execution_count": 56,
   "metadata": {},
   "outputs": [
    {
     "data": {
      "text/plain": [
       "0.5198412698412699"
      ]
     },
     "execution_count": 56,
     "metadata": {},
     "output_type": "execute_result"
    }
   ],
   "source": [
    "y_pred = svm.predict(x_test)\n",
    "y_proba = svm.predict_proba(x_test)\n",
    "accuracy = accuracy_score(y_test, y_pred)\n",
    "accuracy"
   ]
  },
  {
   "cell_type": "markdown",
   "metadata": {},
   "source": [
    "### Change kernal to poly"
   ]
  },
  {
   "cell_type": "markdown",
   "metadata": {},
   "source": [
    "The result is the same"
   ]
  },
  {
   "cell_type": "code",
   "execution_count": 57,
   "metadata": {},
   "outputs": [
    {
     "data": {
      "text/plain": [
       "0.5198412698412699"
      ]
     },
     "execution_count": 57,
     "metadata": {},
     "output_type": "execute_result"
    }
   ],
   "source": [
    "svm = SVC(C=0.5, kernel='poly', probability=True)\n",
    "svm.fit(x_train, y_train)\n",
    "y_pred = svm.predict(x_test)\n",
    "accuracy = accuracy_score(y_test, y_pred)\n",
    "accuracy"
   ]
  },
  {
   "cell_type": "markdown",
   "metadata": {},
   "source": [
    "### Change kernal to rbf"
   ]
  },
  {
   "cell_type": "markdown",
   "metadata": {},
   "source": [
    "The result is the same"
   ]
  },
  {
   "cell_type": "code",
   "execution_count": 58,
   "metadata": {},
   "outputs": [
    {
     "data": {
      "text/plain": [
       "0.5198412698412699"
      ]
     },
     "execution_count": 58,
     "metadata": {},
     "output_type": "execute_result"
    }
   ],
   "source": [
    "svm = SVC(C=0.5, kernel='rbf', probability=True)\n",
    "svm.fit(x_train, y_train)\n",
    "y_pred = svm.predict(x_test)\n",
    "accuracy = accuracy_score(y_test, y_pred)\n",
    "accuracy"
   ]
  },
  {
   "cell_type": "markdown",
   "metadata": {},
   "source": [
    "### Lower the penalty to 0.05"
   ]
  },
  {
   "cell_type": "markdown",
   "metadata": {},
   "source": [
    "The result is still the same"
   ]
  },
  {
   "cell_type": "code",
   "execution_count": 59,
   "metadata": {},
   "outputs": [
    {
     "data": {
      "text/plain": [
       "0.5198412698412699"
      ]
     },
     "execution_count": 59,
     "metadata": {},
     "output_type": "execute_result"
    }
   ],
   "source": [
    "svm = SVC(C=0.05, kernel='poly', probability=True)\n",
    "svm.fit(x_train, y_train)\n",
    "y_pred = svm.predict(x_test)\n",
    "accuracy = accuracy_score(y_test, y_pred)\n",
    "accuracy"
   ]
  },
  {
   "cell_type": "markdown",
   "metadata": {},
   "source": [
    "## 3. Neural Network"
   ]
  },
  {
   "cell_type": "markdown",
   "metadata": {},
   "source": [
    "### Normalize datas"
   ]
  },
  {
   "cell_type": "code",
   "execution_count": 60,
   "metadata": {
    "scrolled": true
   },
   "outputs": [],
   "source": [
    "x_train = preprocessing.normalize(x_train)\n",
    "x_test = preprocessing.normalize(x_test)"
   ]
  },
  {
   "cell_type": "markdown",
   "metadata": {},
   "source": [
    "Construct two hidden layers with 10 units each, and choose relu as activation function"
   ]
  },
  {
   "cell_type": "code",
   "execution_count": 61,
   "metadata": {},
   "outputs": [],
   "source": [
    "hidden_units = 10    \n",
    "activation = 'relu'  \n",
    "l2 = 0.001          \n",
    "learning_rate = 0.01  \n",
    "epochs = 20          \n",
    "batch_size = 32      "
   ]
  },
  {
   "cell_type": "code",
   "execution_count": 62,
   "metadata": {},
   "outputs": [],
   "source": [
    "model = models.Sequential()\n",
    "\n",
    "model.add(layers.Dense(input_dim=x_train.shape[1],\n",
    "                       units=hidden_units, \n",
    "                       activation=activation))\n",
    "\n",
    "model.add(layers.Dense(input_dim=hidden_units,\n",
    "                       units=hidden_units, \n",
    "                       activation=activation))\n",
    "\n",
    "model.add(layers.Dense(input_dim=hidden_units,\n",
    "                       units=1,\n",
    "                       activation='sigmoid'))\n",
    "\n",
    "model.compile(loss='binary_crossentropy',\n",
    "              optimizer=optimizers.Adam(lr=learning_rate),\n",
    "              metrics=['accuracy'])"
   ]
  },
  {
   "cell_type": "code",
   "execution_count": 63,
   "metadata": {},
   "outputs": [],
   "source": [
    "class_weight = {\n",
    "    0: 1.,\n",
    "    1: 1236 / 1028\n",
    "}"
   ]
  },
  {
   "cell_type": "markdown",
   "metadata": {},
   "source": [
    "### Evaluate accuracy and loss history"
   ]
  },
  {
   "cell_type": "markdown",
   "metadata": {},
   "source": [
    "The accuracy is also quite low."
   ]
  },
  {
   "cell_type": "code",
   "execution_count": 64,
   "metadata": {},
   "outputs": [
    {
     "name": "stdout",
     "output_type": "stream",
     "text": [
      "Epoch 1/10\n",
      "2264/2264 [==============================] - 0s 168us/step - loss: 0.7544 - acc: 0.5437\n",
      "Epoch 2/10\n",
      "2264/2264 [==============================] - 0s 30us/step - loss: 0.7515 - acc: 0.5459\n",
      "Epoch 3/10\n",
      "2264/2264 [==============================] - 0s 29us/step - loss: 0.7538 - acc: 0.5459\n",
      "Epoch 4/10\n",
      "2264/2264 [==============================] - 0s 33us/step - loss: 0.7519 - acc: 0.5459\n",
      "Epoch 5/10\n",
      "2264/2264 [==============================] - 0s 31us/step - loss: 0.7515 - acc: 0.5459\n",
      "Epoch 6/10\n",
      "2264/2264 [==============================] - 0s 31us/step - loss: 0.7518 - acc: 0.5459\n",
      "Epoch 7/10\n",
      "2264/2264 [==============================] - 0s 35us/step - loss: 0.7525 - acc: 0.5459\n",
      "Epoch 8/10\n",
      "2264/2264 [==============================] - 0s 28us/step - loss: 0.7511 - acc: 0.5459\n",
      "Epoch 9/10\n",
      "2264/2264 [==============================] - 0s 29us/step - loss: 0.7507 - acc: 0.5459\n",
      "Epoch 10/10\n",
      "2264/2264 [==============================] - 0s 29us/step - loss: 0.7512 - acc: 0.5459\n",
      "2264/2264 [==============================] - 0s 40us/step\n",
      "252/252 [==============================] - 0s 14us/step\n",
      "Training accuracy: 0.5459363958650258\n",
      "Testing accuracy: 0.5198412703143226\n"
     ]
    },
    {
     "data": {
      "image/png": "[encoded data removed]",
      "text/plain": [
       "<Figure size 432x288 with 1 Axes>"
      ]
     },
     "metadata": {
      "needs_background": "light"
     },
     "output_type": "display_data"
    }
   ],
   "source": [
    "history = model.fit(x_train, y_train, epochs=10, batch_size=batch_size, class_weight=class_weight)\n",
    "\n",
    "train_acc = model.evaluate(x_train, y_train, batch_size=32)[1]\n",
    "test_acc = model.evaluate(x_test, y_test, batch_size=32)[1]\n",
    "print('Training accuracy: %s' % train_acc)\n",
    "print('Testing accuracy: %s' % test_acc)\n",
    "\n",
    "losses = history.history['loss']\n",
    "plt.plot(range(len(losses)), losses, 'r')\n",
    "plt.show()"
   ]
  },
  {
   "cell_type": "markdown",
   "metadata": {},
   "source": [
    "### Change optimizer to SGD and add hidden layer units to 50"
   ]
  },
  {
   "cell_type": "code",
   "execution_count": 65,
   "metadata": {},
   "outputs": [],
   "source": [
    "model = models.Sequential()\n",
    "\n",
    "model.add(layers.Dense(input_dim=x_train.shape[1],\n",
    "                       units=50, \n",
    "                       activation=activation))\n",
    "\n",
    "model.add(layers.Dense(input_dim=hidden_units,\n",
    "                       units=1,\n",
    "                       activation='sigmoid'))\n",
    "\n",
    "model.compile(loss='binary_crossentropy',\n",
    "              optimizer='SGD',\n",
    "              metrics=['accuracy'])"
   ]
  },
  {
   "cell_type": "markdown",
   "metadata": {},
   "source": [
    "The result doesn't change"
   ]
  },
  {
   "cell_type": "code",
   "execution_count": 66,
   "metadata": {},
   "outputs": [
    {
     "name": "stdout",
     "output_type": "stream",
     "text": [
      "Epoch 1/10\n",
      "2264/2264 [==============================] - 0s 125us/step - loss: 0.7684 - acc: 0.4960\n",
      "Epoch 2/10\n",
      "2264/2264 [==============================] - 0s 21us/step - loss: 0.7588 - acc: 0.5455\n",
      "Epoch 3/10\n",
      "2264/2264 [==============================] - 0s 24us/step - loss: 0.7545 - acc: 0.5459\n",
      "Epoch 4/10\n",
      "2264/2264 [==============================] - 0s 24us/step - loss: 0.7526 - acc: 0.5459\n",
      "Epoch 5/10\n",
      "2264/2264 [==============================] - 0s 28us/step - loss: 0.7516 - acc: 0.5459\n",
      "Epoch 6/10\n",
      "2264/2264 [==============================] - 0s 26us/step - loss: 0.7512 - acc: 0.5459\n",
      "Epoch 7/10\n",
      "2264/2264 [==============================] - 0s 25us/step - loss: 0.7510 - acc: 0.5459\n",
      "Epoch 8/10\n",
      "2264/2264 [==============================] - 0s 26us/step - loss: 0.7509 - acc: 0.5459\n",
      "Epoch 9/10\n",
      "2264/2264 [==============================] - 0s 24us/step - loss: 0.7508 - acc: 0.5459\n",
      "Epoch 10/10\n",
      "2264/2264 [==============================] - 0s 24us/step - loss: 0.7507 - acc: 0.5459\n",
      "2264/2264 [==============================] - 0s 45us/step\n",
      "252/252 [==============================] - 0s 13us/step\n",
      "Training accuracy: 0.5459363958650258\n",
      "Testing accuracy: 0.5198412703143226\n"
     ]
    },
    {
     "data": {
      "image/png": "[encoded data removed]",
      "text/plain": [
       "<Figure size 432x288 with 1 Axes>"
      ]
     },
     "metadata": {
      "needs_background": "light"
     },
     "output_type": "display_data"
    }
   ],
   "source": [
    "history = model.fit(x_train, y_train, epochs=10, batch_size=batch_size, class_weight=class_weight)\n",
    "\n",
    "train_acc = model.evaluate(x_train, y_train, batch_size=32)[1]\n",
    "test_acc = model.evaluate(x_test, y_test, batch_size=32)[1]\n",
    "print('Training accuracy: %s' % train_acc)\n",
    "print('Testing accuracy: %s' % test_acc)\n",
    "\n",
    "losses = history.history['loss']\n",
    "plt.plot(range(len(losses)), losses, 'r')\n",
    "plt.show()"
   ]
  },
  {
   "cell_type": "markdown",
   "metadata": {},
   "source": [
    "## Discussion"
   ]
  },
  {
   "cell_type": "markdown",
   "metadata": {},
   "source": [
    "### Why the accuracy is so low among three models?"
   ]
  },
  {
   "cell_type": "markdown",
   "metadata": {},
   "source": [
    "In my view, machine learning need to learn from a regular rule, however,\n",
    "the market movement is so fast that the rules change every single day, hour, and even minute. It will cause that training not enough to represent test set in many case. For instance in this case. There may exist some features on world more related to the rise and fall of stock price than just 'Open price', 'high price' etc. Such as USA-China trade war.\n",
    "\n",
    "Following, let look for another data set whose features has apparently relation with the target."
   ]
  },
  {
   "cell_type": "markdown",
   "metadata": {},
   "source": [
    "# Try another dataset"
   ]
  },
  {
   "cell_type": "markdown",
   "metadata": {},
   "source": [
    "### Dataset: Titanic"
   ]
  },
  {
   "cell_type": "markdown",
   "metadata": {},
   "source": [
    "Source:https://www.kaggle.com/c/titanic/data"
   ]
  },
  {
   "cell_type": "code",
   "execution_count": 67,
   "metadata": {},
   "outputs": [],
   "source": [
    "df = pd.read_csv('./desktop/titanic/train.csv')"
   ]
  },
  {
   "cell_type": "code",
   "execution_count": 68,
   "metadata": {},
   "outputs": [],
   "source": [
    "df = df.drop(['PassengerId','Name', 'Ticket', 'Cabin', 'Embarked','Fare'], axis = 1)\n"
   ]
  },
  {
   "cell_type": "code",
   "execution_count": 69,
   "metadata": {},
   "outputs": [],
   "source": [
    "average_age = df['Age'].sum() / df['Age'].count()\n",
    "df['Age'].fillna(average_age, inplace = True)"
   ]
  },
  {
   "cell_type": "code",
   "execution_count": 70,
   "metadata": {},
   "outputs": [],
   "source": [
    "sex_map = {'male' : 0, 'female' :1}\n",
    "df['Sex'] = df['Sex'].map(sex_map)\n",
    "\n"
   ]
  },
  {
   "cell_type": "code",
   "execution_count": 71,
   "metadata": {},
   "outputs": [],
   "source": [
    "x = df.drop('Survived', axis = 1)\n",
    "y = df['Survived']"
   ]
  },
  {
   "cell_type": "code",
   "execution_count": 72,
   "metadata": {},
   "outputs": [
    {
     "data": {
      "text/plain": [
       "['Pclass', 'Sex', 'Age', 'SibSp', 'Parch']"
      ]
     },
     "execution_count": 72,
     "metadata": {},
     "output_type": "execute_result"
    }
   ],
   "source": [
    "x_train, x_test, y_train, y_test = train_test_split(x, y, test_size = 0.30)\n",
    "\n",
    "list(x_train)"
   ]
  },
  {
   "cell_type": "code",
   "execution_count": 73,
   "metadata": {},
   "outputs": [
    {
     "name": "stderr",
     "output_type": "stream",
     "text": [
      "/usr/local/lib/python3.7/site-packages/sklearn/preprocessing/data.py:645: DataConversionWarning: Data with input dtype int64, float64 were all converted to float64 by StandardScaler.\n",
      "  return self.partial_fit(X, y)\n",
      "/usr/local/lib/python3.7/site-packages/ipykernel_launcher.py:4: DataConversionWarning: Data with input dtype int64, float64 were all converted to float64 by StandardScaler.\n",
      "  after removing the cwd from sys.path.\n",
      "/usr/local/lib/python3.7/site-packages/ipykernel_launcher.py:5: DataConversionWarning: Data with input dtype int64, float64 were all converted to float64 by StandardScaler.\n",
      "  \"\"\"\n"
     ]
    }
   ],
   "source": [
    "scaler = StandardScaler()\n",
    "scaler.fit(x_train)\n",
    "\n",
    "x_train = scaler.transform(x_train)\n",
    "x_test = scaler.transform(x_test)"
   ]
  },
  {
   "cell_type": "markdown",
   "metadata": {},
   "source": [
    "## 1. Logistic Regression"
   ]
  },
  {
   "cell_type": "code",
   "execution_count": 74,
   "metadata": {},
   "outputs": [],
   "source": [
    "clf = LogisticRegression(solver = 'liblinear')\n",
    "clf = clf.fit(x_train, y_train)"
   ]
  },
  {
   "cell_type": "code",
   "execution_count": 75,
   "metadata": {},
   "outputs": [],
   "source": [
    "probability = clf.predict_proba(x_test)"
   ]
  },
  {
   "cell_type": "code",
   "execution_count": 76,
   "metadata": {},
   "outputs": [
    {
     "data": {
      "text/plain": [
       "0.7910447761194029"
      ]
     },
     "execution_count": 76,
     "metadata": {},
     "output_type": "execute_result"
    }
   ],
   "source": [
    "pred = clf.predict(x_test)\n",
    "clf.score(x_test, y_test)"
   ]
  },
  {
   "cell_type": "markdown",
   "metadata": {},
   "source": [
    "## 2. Support Vector Machine"
   ]
  },
  {
   "cell_type": "code",
   "execution_count": 77,
   "metadata": {},
   "outputs": [
    {
     "data": {
      "text/plain": [
       "SVC(C=0.5, cache_size=200, class_weight=None, coef0=0.0,\n",
       "  decision_function_shape='ovr', degree=3, gamma='auto_deprecated',\n",
       "  kernel='linear', max_iter=-1, probability=True, random_state=None,\n",
       "  shrinking=True, tol=0.001, verbose=False)"
      ]
     },
     "execution_count": 77,
     "metadata": {},
     "output_type": "execute_result"
    }
   ],
   "source": [
    "svm = SVC(C=0.5, kernel='linear', probability=True)\n",
    "svm.fit(x_train, y_train)"
   ]
  },
  {
   "cell_type": "code",
   "execution_count": 78,
   "metadata": {},
   "outputs": [
    {
     "data": {
      "text/plain": [
       "0.75"
      ]
     },
     "execution_count": 78,
     "metadata": {},
     "output_type": "execute_result"
    }
   ],
   "source": [
    "y_pred = svm.predict(x_test)\n",
    "y_proba = svm.predict_proba(x_test)\n",
    "accuracy = accuracy_score(y_test, y_pred)\n",
    "accuracy"
   ]
  },
  {
   "cell_type": "markdown",
   "metadata": {},
   "source": [
    "## 3. Neural Network"
   ]
  },
  {
   "cell_type": "markdown",
   "metadata": {},
   "source": [
    "Normalize datas"
   ]
  },
  {
   "cell_type": "code",
   "execution_count": 79,
   "metadata": {},
   "outputs": [],
   "source": [
    "x_train = preprocessing.normalize(x_train)\n",
    "x_test = preprocessing.normalize(x_test)"
   ]
  },
  {
   "cell_type": "code",
   "execution_count": 80,
   "metadata": {},
   "outputs": [],
   "source": [
    "hidden_units = 10    \n",
    "activation = 'relu'  \n",
    "l2 = 0.001          \n",
    "learning_rate = 0.01 \n",
    "epochs = 20          \n",
    "batch_size = 32"
   ]
  },
  {
   "cell_type": "code",
   "execution_count": 81,
   "metadata": {},
   "outputs": [],
   "source": [
    "model = models.Sequential()\n",
    "\n",
    "model.add(layers.Dense(input_dim=x_train.shape[1],\n",
    "                       units=hidden_units, \n",
    "                       activation=activation))\n",
    "\n",
    "model.add(layers.Dense(input_dim= hidden_units,\n",
    "                       units=10, \n",
    "                       activation=activation))\n",
    "\n",
    "\n",
    "model.add(layers.Dense(input_dim=hidden_units,\n",
    "                       units=1,\n",
    "                       activation='sigmoid'))\n",
    "\n",
    "model.compile(loss='binary_crossentropy',\n",
    "              optimizer=optimizers.Adam(lr=learning_rate),\n",
    "              metrics=['accuracy'])"
   ]
  },
  {
   "cell_type": "code",
   "execution_count": 82,
   "metadata": {},
   "outputs": [],
   "source": [
    "class_weight = {\n",
    "    0: 1.,\n",
    "    1: 1236 / 1028\n",
    "}"
   ]
  },
  {
   "cell_type": "code",
   "execution_count": 83,
   "metadata": {},
   "outputs": [
    {
     "name": "stdout",
     "output_type": "stream",
     "text": [
      "Epoch 1/10\n",
      "623/623 [==============================] - 0s 577us/step - loss: 0.6067 - acc: 0.7576\n",
      "Epoch 2/10\n",
      "623/623 [==============================] - 0s 31us/step - loss: 0.4997 - acc: 0.7978\n",
      "Epoch 3/10\n",
      "623/623 [==============================] - 0s 34us/step - loss: 0.4706 - acc: 0.8122\n",
      "Epoch 4/10\n",
      "623/623 [==============================] - 0s 35us/step - loss: 0.4584 - acc: 0.8186\n",
      "Epoch 5/10\n",
      "623/623 [==============================] - 0s 34us/step - loss: 0.4509 - acc: 0.8090\n",
      "Epoch 6/10\n",
      "623/623 [==============================] - 0s 34us/step - loss: 0.4517 - acc: 0.8042\n",
      "Epoch 7/10\n",
      "623/623 [==============================] - 0s 33us/step - loss: 0.4411 - acc: 0.8218\n",
      "Epoch 8/10\n",
      "623/623 [==============================] - 0s 30us/step - loss: 0.4424 - acc: 0.8234\n",
      "Epoch 9/10\n",
      "623/623 [==============================] - 0s 32us/step - loss: 0.4445 - acc: 0.8186\n",
      "Epoch 10/10\n",
      "623/623 [==============================] - 0s 35us/step - loss: 0.4326 - acc: 0.8266\n",
      "623/623 [==============================] - 0s 163us/step\n",
      "268/268 [==============================] - 0s 13us/step\n",
      "Training accuracy: 0.8378812199036918\n",
      "Testing accuracy: 0.8134328349312739\n"
     ]
    },
    {
     "data": {
      "image/png": "[encoded data removed]",
      "text/plain": [
       "<Figure size 432x288 with 1 Axes>"
      ]
     },
     "metadata": {
      "needs_background": "light"
     },
     "output_type": "display_data"
    }
   ],
   "source": [
    "history = model.fit(x_train, y_train, epochs=10, batch_size=batch_size, class_weight=class_weight)\n",
    "\n",
    "train_acc = model.evaluate(x_train, y_train, batch_size=32)[1]\n",
    "test_acc = model.evaluate(x_test, y_test, batch_size=32)[1]\n",
    "print('Training accuracy: %s' % train_acc)\n",
    "print('Testing accuracy: %s' % test_acc)\n",
    "\n",
    "losses = history.history['loss']\n",
    "plt.plot(range(len(losses)), losses, 'r')\n",
    "plt.show()"
   ]
  },
  {
   "cell_type": "markdown",
   "metadata": {},
   "source": [
    "# Discussion"
   ]
  },
  {
   "cell_type": "markdown",
   "metadata": {},
   "source": [
    "Accuracy of each model:\n",
    "1. Neural Network: 0.8134\n",
    "2. Logistic regression: 0.7910\n",
    "3. SVM: 0.7500"
   ]
  },
  {
   "cell_type": "markdown",
   "metadata": {},
   "source": [
    "1. Apparently, the accuracy of predicting titanic is much more higher than\n",
    "predicting stock price with these 3 models. In my opinion, this is because the feature in Titanic dataset is more to do with the target.\n",
    "In contrast, features in stock dataset are not much related to whether closed price will rise or fall on next day. Thus, no matter which model we choose, the accuracy won't fit our expect.\n",
    "2.  As for the accuracy among these three models, neural network is the highest.It makes sense because NN is a parametrics models, and it can be design as multiple layer, which means a better learn ability."
   ]
  }
 ],
 "metadata": {
  "kernelspec": {
   "display_name": "Python 3",
   "language": "python",
   "name": "python3"
  },
  "language_info": {
   "codemirror_mode": {
    "name": "ipython",
    "version": 3
   },
   "file_extension": ".py",
   "mimetype": "text/x-python",
   "name": "python",
   "nbconvert_exporter": "python",
   "pygments_lexer": "ipython3",
   "version": "3.7.2"
  }
 },
 "nbformat": 4,
 "nbformat_minor": 2
}
